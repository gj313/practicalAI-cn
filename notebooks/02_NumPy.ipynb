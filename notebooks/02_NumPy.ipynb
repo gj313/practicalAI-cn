{
 "cells": [
  {
   "cell_type": "markdown",
   "metadata": {
    "colab_type": "text",
    "id": "bOChJSNXtC9g"
   },
   "source": [
    "# NumPy"
   ]
  },
  {
   "cell_type": "markdown",
   "metadata": {
    "colab_type": "text",
    "id": "OLIxEDq6VhvZ"
   },
   "source": [
    "<img src=\"../images/logo.png\" width=150>\n",
    "\n",
    "在本课中，我们将学习使用NumPy包进行数值分析的基础知识。\n",
    "\n",
    "<img src=\"../images/numpy.png\" width=300>\n",
    "\n",
    "\n"
   ]
  },
  {
   "cell_type": "markdown",
   "metadata": {
    "colab_type": "text",
    "id": "VoMq0eFRvugb"
   },
   "source": [
    "# NumPy 基础知识"
   ]
  },
  {
   "cell_type": "code",
   "execution_count": null,
   "metadata": {
    "colab": {},
    "colab_type": "code",
    "id": "0-dXQiLlTIgz"
   },
   "outputs": [],
   "source": [
    "import numpy as np"
   ]
  },
  {
   "cell_type": "code",
   "execution_count": null,
   "metadata": {
    "colab": {},
    "colab_type": "code",
    "id": "bhaOPJV7WA0m"
   },
   "outputs": [],
   "source": [
    "# 使得多次生成的随机数相同\n",
    "np.random.seed(seed=1234)"
   ]
  },
  {
   "cell_type": "code",
   "execution_count": null,
   "metadata": {
    "colab": {
     "base_uri": "https://localhost:8080/",
     "height": 101
    },
    "colab_type": "code",
    "id": "23tSlin9aWZ8",
    "outputId": "2ef26177-0cfd-42c8-b9e2-7386e9c5e418"
   },
   "outputs": [],
   "source": [
    "# 标量（scalars）\n",
    "x = np.array(6) # scalar\n",
    "print (\"x: \", x)\n",
    "print(\"x ndim: \", x.ndim)\n",
    "print(\"x shape:\", x.shape)\n",
    "print(\"x size: \", x.size)\n",
    "print (\"x dtype: \", x.dtype)"
   ]
  },
  {
   "cell_type": "code",
   "execution_count": null,
   "metadata": {
    "colab": {
     "base_uri": "https://localhost:8080/",
     "height": 101
    },
    "colab_type": "code",
    "id": "ugIZprdIabFF",
    "outputId": "b3fb3ff6-710c-442d-ca5f-35706a4badc9"
   },
   "outputs": [],
   "source": [
    "# 一维数组（array）\n",
    "x = np.array([1.3 , 2.2 , 1.7])\n",
    "print (\"x: \", x)\n",
    "print(\"x ndim: \", x.ndim)\n",
    "print(\"x shape:\", x.shape)\n",
    "print(\"x size: \", x.size)\n",
    "print (\"x dtype: \", x.dtype) # notice the float datatype"
   ]
  },
  {
   "cell_type": "code",
   "execution_count": null,
   "metadata": {
    "colab": {
     "base_uri": "https://localhost:8080/",
     "height": 152
    },
    "colab_type": "code",
    "id": "SQI-T_4MbE9J",
    "outputId": "798be5a6-14d4-46f1-a039-97327a70144a"
   },
   "outputs": [],
   "source": [
    "# 三维数组（矩阵（matrix））\n",
    "x = np.array([[[1,2,3], [4,5,6], [7,8,9]]])\n",
    "print (\"x:\\n\", x)\n",
    "print(\"x ndim: \", x.ndim)\n",
    "print(\"x shape:\", x.shape)\n",
    "print(\"x size: \", x.size)\n",
    "print (\"x dtype: \", x.dtype)"
   ]
  },
  {
   "cell_type": "code",
   "execution_count": null,
   "metadata": {
    "colab": {
     "base_uri": "https://localhost:8080/",
     "height": 220
    },
    "colab_type": "code",
    "id": "z2Qf8EKZln9j",
    "outputId": "d8b4e337-a1f3-4b3a-9e85-a0a1b7752ae4"
   },
   "outputs": [],
   "source": [
    "# 函数\n",
    "print (\"np.zeros((2,2)):\\n\", np.zeros((2,2)))\n",
    "print (\"np.ones((2,2)):\\n\", np.ones((2,2)))\n",
    "print (\"np.eye((2)):\\n\", np.eye((2)))\n",
    "print (\"np.random.random((2,2)):\\n\", np.random.random((2,2)))"
   ]
  },
  {
   "cell_type": "markdown",
   "metadata": {
    "colab_type": "text",
    "id": "qVD-MCiCdcV9"
   },
   "source": [
    "# 索引"
   ]
  },
  {
   "cell_type": "code",
   "execution_count": null,
   "metadata": {
    "colab": {
     "base_uri": "https://localhost:8080/",
     "height": 51
    },
    "colab_type": "code",
    "id": "vyt36kFOcVDX",
    "outputId": "c695038f-45c5-4e28-9df6-ead002f40e96"
   },
   "outputs": [],
   "source": [
    "# 索引（indexing）\n",
    "x = np.array([1, 2, 3])\n",
    "print (\"x[0]: \", x[0])\n",
    "x[0] = 0\n",
    "print (\"x: \", x)"
   ]
  },
  {
   "cell_type": "code",
   "execution_count": null,
   "metadata": {
    "colab": {
     "base_uri": "https://localhost:8080/",
     "height": 169
    },
    "colab_type": "code",
    "id": "qxHww0didni6",
    "outputId": "b115a1c3-627e-4259-a6ed-a33f2e65ced4"
   },
   "outputs": [],
   "source": [
    "# 切片（slicing）\n",
    "x = np.array([[1,2,3,4], [5,6,7,8], [9,10,11,12]])\n",
    "print (x)\n",
    "print (\"x column 1: \", x[:, 1]) \n",
    "print (\"x row 0: \", x[0, :]) \n",
    "print (\"x rows 0,1,2 & cols 1,2: \\n\", x[:3, 1:3]) "
   ]
  },
  {
   "cell_type": "code",
   "execution_count": null,
   "metadata": {
    "colab": {
     "base_uri": "https://localhost:8080/",
     "height": 118
    },
    "colab_type": "code",
    "id": "A52pzB9idyDE",
    "outputId": "f514c2dd-59a2-42ec-d75a-6d26fbd45a6d"
   },
   "outputs": [],
   "source": [
    "# 整数数组索引\n",
    "print (x)\n",
    "rows_to_get = np.arange(len(x))\n",
    "print (\"rows_to_get: \", rows_to_get)\n",
    "cols_to_get = np.array([0, 2, 1])\n",
    "print (\"cols_to_get: \", cols_to_get)\n",
    "print (\"indexed values: \", x[rows_to_get, cols_to_get])"
   ]
  },
  {
   "cell_type": "code",
   "execution_count": null,
   "metadata": {
    "colab": {
     "base_uri": "https://localhost:8080/",
     "height": 186
    },
    "colab_type": "code",
    "id": "_R7O5WsVfDij",
    "outputId": "4d326bf8-898b-400f-bd98-77f41f4a9a18"
   },
   "outputs": [],
   "source": [
    "# 布尔数组索引\n",
    "x = np.array([[1,2], [3, 4], [5, 6]])\n",
    "print (\"x:\\n\", x)\n",
    "print (\"x > 2:\\n\", x > 2)\n",
    "print (\"x[x > 2]:\\n\", x[x > 2])"
   ]
  },
  {
   "cell_type": "markdown",
   "metadata": {
    "colab_type": "text",
    "id": "77RCjrQ8gvYW"
   },
   "source": [
    "# 数组基础知识"
   ]
  },
  {
   "cell_type": "code",
   "execution_count": null,
   "metadata": {
    "colab": {
     "base_uri": "https://localhost:8080/",
     "height": 169
    },
    "colab_type": "code",
    "id": "1UJVcNCLfFrV",
    "outputId": "5428bc3e-51f8-4258-e822-4c62f2407e16"
   },
   "outputs": [],
   "source": [
    "# 数学基础\n",
    "x = np.array([[1,2], [3,4]], dtype=np.float64)\n",
    "y = np.array([[1,2], [3,4]], dtype=np.float64)\n",
    "print (\"x + y:\\n\", np.add(x, y)) # or x + y\n",
    "print (\"x - y:\\n\", np.subtract(x, y)) # or x - y\n",
    "print (\"x * y:\\n\", np.multiply(x, y)) # or x * y"
   ]
  },
  {
   "cell_type": "markdown",
   "metadata": {
    "colab_type": "text",
    "id": "1BV0nSIliMC6"
   },
   "source": [
    "<img src=\"https://raw.githubusercontent.com/GokuMohandas/practicalAI/master/images/matrix.png\" width=400>\n"
   ]
  },
  {
   "cell_type": "code",
   "execution_count": null,
   "metadata": {
    "colab": {
     "base_uri": "https://localhost:8080/",
     "height": 51
    },
    "colab_type": "code",
    "id": "XyZVF6gXhTWd",
    "outputId": "be8df5c9-3eea-4b81-9feb-7597edd9bf90"
   },
   "outputs": [],
   "source": [
    "# 点积\n",
    "a = np.array([[1,2,3], [4,5,6]], dtype=np.float64) # 我们可以指定dtype\n",
    "b = np.array([[7,8], [9,10], [11, 12]], dtype=np.float64)\n",
    "print (a.dot(b))"
   ]
  },
  {
   "cell_type": "code",
   "execution_count": null,
   "metadata": {
    "colab": {
     "base_uri": "https://localhost:8080/",
     "height": 101
    },
    "colab_type": "code",
    "id": "7pB-H-7phsku",
    "outputId": "3b6315de-1432-4623-8569-34ed1b0be37c"
   },
   "outputs": [],
   "source": [
    "# 跨维度求和\n",
    "x = np.array([[1,2],[3,4]])\n",
    "print (x)\n",
    "print (\"sum all: \", np.sum(x)) # 将所有元素相加\n",
    "print (\"sum by col: \", np.sum(x, axis=0)) # 逐列将元素相加\n",
    "print (\"sum by row: \", np.sum(x, axis=1)) # 逐行将元素相加"
   ]
  },
  {
   "cell_type": "code",
   "execution_count": null,
   "metadata": {
    "colab": {
     "base_uri": "https://localhost:8080/",
     "height": 118
    },
    "colab_type": "code",
    "id": "pLDG49LrijgA",
    "outputId": "01ecf82a-b31a-4771-f526-3dd903d01f98"
   },
   "outputs": [],
   "source": [
    "# 转置\n",
    "print (\"x:\\n\", x)\n",
    "print (\"x.T:\\n\", x.T)"
   ]
  },
  {
   "cell_type": "markdown",
   "metadata": {
    "colab_type": "text",
    "id": "KdPKVKtwkWnw"
   },
   "source": [
    "# 数组高级知识"
   ]
  },
  {
   "cell_type": "code",
   "execution_count": null,
   "metadata": {
    "colab": {
     "base_uri": "https://localhost:8080/",
     "height": 118
    },
    "colab_type": "code",
    "id": "U_j2fCcjkEyo",
    "outputId": "e728bff5-aef3-48f8-ea52-2b8d1d2caf01"
   },
   "outputs": [],
   "source": [
    "# np.tile：重复维度\n",
    "x = np.array([[1,2], [3,4]])\n",
    "y = np.array([5, 6])\n",
    "addent = np.tile(y, (len(x), 1))\n",
    "print (\"addent: \\n\", addent)\n",
    "z = x + addent\n",
    "print (\"z:\\n\", z)"
   ]
  },
  {
   "cell_type": "code",
   "execution_count": null,
   "metadata": {
    "colab": {
     "base_uri": "https://localhost:8080/",
     "height": 68
    },
    "colab_type": "code",
    "id": "1NsoFVo0mfQ4",
    "outputId": "82694416-b155-45ca-aa27-9997b914d482"
   },
   "outputs": [],
   "source": [
    "# 广播（broadcasting）\n",
    "x = np.array([[1,2], [3,4]])\n",
    "y = np.array([5, 6])\n",
    "z = x + y\n",
    "print (\"z:\\n\", z)"
   ]
  },
  {
   "cell_type": "code",
   "execution_count": null,
   "metadata": {
    "colab": {
     "base_uri": "https://localhost:8080/",
     "height": 152
    },
    "colab_type": "code",
    "id": "RdEHrnMTnO6k",
    "outputId": "84ac6a75-835a-46d5-d313-78d1d92469f0"
   },
   "outputs": [],
   "source": [
    "# 改变维度\n",
    "x = np.array([[1,2], [3,4], [5,6]])\n",
    "print (x)\n",
    "print (\"x.shape: \", x.shape)\n",
    "y = np.reshape(x, (2, 3))\n",
    "print (\"y.shape: \", y.shape)\n",
    "print (\"y: \\n\", y)"
   ]
  },
  {
   "cell_type": "code",
   "execution_count": null,
   "metadata": {
    "colab": {
     "base_uri": "https://localhost:8080/",
     "height": 101
    },
    "colab_type": "code",
    "id": "tE1BmoJuns70",
    "outputId": "4d96b9fd-f580-4738-8dd2-33b2486f7c51"
   },
   "outputs": [],
   "source": [
    "# 删除维度\n",
    "x = np.array([[[1,2,1]],[[2,2,3]]])\n",
    "print (\"x.shape: \", x.shape)\n",
    "y = np.squeeze(x, 1) # 删除维度1\n",
    "print (\"y.shape: \", y.shape) \n",
    "print (\"y: \\n\", y)"
   ]
  },
  {
   "cell_type": "code",
   "execution_count": null,
   "metadata": {
    "colab": {
     "base_uri": "https://localhost:8080/",
     "height": 118
    },
    "colab_type": "code",
    "id": "LNYJRMF4qvXN",
    "outputId": "230bf71a-072c-4f7b-b59b-a22303a23db3"
   },
   "outputs": [],
   "source": [
    "# 添加维度\n",
    "x = np.array([[1,2,1],[2,2,3]])\n",
    "print (\"x.shape: \", x.shape)\n",
    "y = np.expand_dims(x, 1) # 扩展维度1\n",
    "print (\"y.shape: \", y.shape) \n",
    "print (\"y: \\n\", y)"
   ]
  },
  {
   "cell_type": "markdown",
   "metadata": {
    "colab_type": "text",
    "id": "XthM4y7SotAH"
   },
   "source": [
    "# 其它资源"
   ]
  },
  {
   "cell_type": "markdown",
   "metadata": {
    "colab_type": "text",
    "id": "3KmESFstrbFS"
   },
   "source": [
    "你不必熟悉本文中任何东西，因为我们将在后面的课程中仔细研究NumPy。如果你对Numpy感到好奇，可以自行查看 [NumPy reference manual](https://docs.scipy.org/doc/numpy-1.15.1/reference/)."
   ]
  },
  {
   "cell_type": "code",
   "execution_count": null,
   "metadata": {
    "colab": {},
    "colab_type": "code",
    "id": "NpI4jhxjwbol"
   },
   "outputs": [],
   "source": []
  }
 ],
 "metadata": {
  "colab": {
   "collapsed_sections": [],
   "name": "02_NumPy",
   "provenance": [],
   "toc_visible": true,
   "version": "0.3.2"
  },
  "kernelspec": {
   "display_name": "Python 3 (ipykernel)",
   "language": "python",
   "name": "python3"
  },
  "language_info": {
   "codemirror_mode": {
    "name": "ipython",
    "version": 3
   },
   "file_extension": ".py",
   "mimetype": "text/x-python",
   "name": "python",
   "nbconvert_exporter": "python",
   "pygments_lexer": "ipython3",
   "version": "3.6.15"
  }
 },
 "nbformat": 4,
 "nbformat_minor": 1
}
