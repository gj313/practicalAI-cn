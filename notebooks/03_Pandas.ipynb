{
 "cells": [
  {
   "cell_type": "markdown",
   "metadata": {
    "colab_type": "text",
    "id": "bOChJSNXtC9g"
   },
   "source": [
    "# Pandas"
   ]
  },
  {
   "cell_type": "markdown",
   "metadata": {
    "colab_type": "text",
    "id": "OLIxEDq6VhvZ"
   },
   "source": [
    "<img src=\"../images/logo.png\" width=150>\n",
    "\n",
    "在本文中，我们将学习使用Python Pandas库进行数据分析的基础知识。\n",
    "\n",
    "<img src=\"../images/pandas.png\" width=500>\n",
    "\n",
    "\n"
   ]
  },
  {
   "cell_type": "markdown",
   "metadata": {
    "colab_type": "text",
    "id": "VoMq0eFRvugb"
   },
   "source": [
    "# 下载数据"
   ]
  },
  {
   "cell_type": "markdown",
   "metadata": {
    "colab_type": "text",
    "id": "qWro5T5qTJJL"
   },
   "source": [
    "首先，我们要获得一些数据。我们将从下面的公共链接中下载titanic数据集。"
   ]
  },
  {
   "cell_type": "code",
   "execution_count": null,
   "metadata": {
    "colab": {},
    "colab_type": "code",
    "id": "cdg5wEFcV6qA"
   },
   "outputs": [],
   "source": [
    "# import urllib"
   ]
  },
  {
   "cell_type": "code",
   "execution_count": null,
   "metadata": {
    "colab": {},
    "colab_type": "code",
    "id": "6FuyDUTFVY7J"
   },
   "outputs": [],
   "source": [
    "# # 将数据从GitHub下载到笔记本电脑的本地磁盘\n",
    "# url = \"https://raw.githubusercontent.com/GokuMohandas/practicalAI/master/data/titanic.csv\"\n",
    "# response = urllib.request.urlopen(url)\n",
    "# html = response.read()\n",
    "# with open('titanic.csv', 'wb') as f:\n",
    "#     f.write(html)"
   ]
  },
  {
   "cell_type": "code",
   "execution_count": null,
   "metadata": {
    "colab": {
     "base_uri": "https://localhost:8080/",
     "height": 84
    },
    "colab_type": "code",
    "id": "TK3wsHCFhldU",
    "outputId": "3c617391-f929-4956-ab76-2e53b64abdf3"
   },
   "outputs": [],
   "source": [
    "# 检查数据是否已下载成功\n",
    "# !ls -l "
   ]
  },
  {
   "cell_type": "markdown",
   "metadata": {
    "colab_type": "text",
    "id": "TL4rwLUSW9hV"
   },
   "source": [
    "# 加载数据"
   ]
  },
  {
   "cell_type": "markdown",
   "metadata": {
    "colab_type": "text",
    "id": "4EOXMnGHiLxM"
   },
   "source": [
    "现在我们有一些数据可以使用，让我们加载到Pandas数据帧（dataframe）中。Pandas是一个很棒的python数据库分析库。"
   ]
  },
  {
   "cell_type": "code",
   "execution_count": null,
   "metadata": {
    "colab": {},
    "colab_type": "code",
    "id": "-Zd-zoyjaaw2"
   },
   "outputs": [],
   "source": [
    "import pandas as pd"
   ]
  },
  {
   "cell_type": "code",
   "execution_count": null,
   "metadata": {
    "colab": {},
    "colab_type": "code",
    "id": "ywaEF_0aQ023"
   },
   "outputs": [],
   "source": [
    "# 从CSV读取到Pandas DataFrame\n",
    "df = pd.read_csv(\"../data/titanic.csv\", header=0)"
   ]
  },
  {
   "cell_type": "code",
   "execution_count": null,
   "metadata": {
    "colab": {
     "base_uri": "https://localhost:8080/",
     "height": 194
    },
    "colab_type": "code",
    "id": "J79FUzZWQ-kx",
    "outputId": "3ccab6de-901e-42d2-8032-9307c5448a04"
   },
   "outputs": [],
   "source": [
    "# 前五项\n",
    "df.head()"
   ]
  },
  {
   "cell_type": "markdown",
   "metadata": {
    "colab_type": "text",
    "id": "qhYyM3iGRZ8W"
   },
   "source": [
    "他们有不同的特征: \n",
    "* pclass: class of travel\n",
    "* name: full name of the passenger\n",
    "* sex: gender\n",
    "* age: numerical age\n",
    "* sibsp: # of siblings/spouse aboard\n",
    "* parch: number of parents/child aboard\n",
    "* ticket: ticket number\n",
    "* fare: cost of the ticket\n",
    "* cabin: location of room\n",
    "* emarked: port that the passenger embarked at (C - Cherbourg, S - Southampton, Q = Queenstown)\n",
    "* survived: survial metric (0 - died, 1 - survived)"
   ]
  },
  {
   "cell_type": "markdown",
   "metadata": {
    "colab_type": "text",
    "id": "NBx5VP8K_y6N"
   },
   "source": [
    "# 探索性分析"
   ]
  },
  {
   "cell_type": "markdown",
   "metadata": {
    "colab_type": "text",
    "id": "DD14WJ1G_zum"
   },
   "source": [
    "我们将使用Pandas库，看看如何探索和处理我们的数据。"
   ]
  },
  {
   "cell_type": "code",
   "execution_count": null,
   "metadata": {
    "colab": {
     "base_uri": "https://localhost:8080/",
     "height": 282
    },
    "colab_type": "code",
    "id": "thR28yTmASRr",
    "outputId": "798b1a62-eb6a-46d5-e527-449fc7f32bb2"
   },
   "outputs": [],
   "source": [
    "# 描述性统计\n",
    "df.describe()"
   ]
  },
  {
   "cell_type": "code",
   "execution_count": null,
   "metadata": {
    "colab": {
     "base_uri": "https://localhost:8080/",
     "height": 364
    },
    "colab_type": "code",
    "id": "Mn5HqS3XmzJs",
    "outputId": "bb849441-d178-4559-bb7a-e3d9ef3caefb"
   },
   "outputs": [],
   "source": [
    "# 直方图\n",
    "df[\"age\"].hist()"
   ]
  },
  {
   "cell_type": "code",
   "execution_count": null,
   "metadata": {
    "colab": {
     "base_uri": "https://localhost:8080/",
     "height": 34
    },
    "colab_type": "code",
    "id": "7illbHR1nLEF",
    "outputId": "38dd59af-3901-485d-8335-8d9aef4cb204"
   },
   "outputs": [],
   "source": [
    "# 唯一值\n",
    "df[\"embarked\"].unique()"
   ]
  },
  {
   "cell_type": "code",
   "execution_count": null,
   "metadata": {
    "colab": {
     "base_uri": "https://localhost:8080/",
     "height": 118
    },
    "colab_type": "code",
    "id": "BG1IMeV_hrqV",
    "outputId": "5499f70f-9a64-4371-b185-e1f56b62bbb9"
   },
   "outputs": [],
   "source": [
    "# 根据特征选择数据\n",
    "df[\"name\"].head()"
   ]
  },
  {
   "cell_type": "code",
   "execution_count": null,
   "metadata": {
    "colab": {
     "base_uri": "https://localhost:8080/",
     "height": 194
    },
    "colab_type": "code",
    "id": "wPrRGLDtiZSp",
    "outputId": "7e32434d-0a96-44c0-e54d-2dc45e04c5c7"
   },
   "outputs": [],
   "source": [
    "# 筛选\n",
    "df[df[\"sex\"]==\"female\"].head() # 只有女性数据出现"
   ]
  },
  {
   "cell_type": "code",
   "execution_count": null,
   "metadata": {
    "colab": {
     "base_uri": "https://localhost:8080/",
     "height": 194
    },
    "colab_type": "code",
    "id": "FOuLeYIojMMH",
    "outputId": "aa4fbb43-cf32-4e6c-e92f-c97ad79da9d1"
   },
   "outputs": [],
   "source": [
    "# 排序\n",
    "df.sort_values(\"age\", ascending=False).head()"
   ]
  },
  {
   "cell_type": "code",
   "execution_count": null,
   "metadata": {
    "colab": {
     "base_uri": "https://localhost:8080/",
     "height": 135
    },
    "colab_type": "code",
    "id": "v0TCbtSMjMO5",
    "outputId": "5c602a41-3250-48e1-f5c2-973340a20708"
   },
   "outputs": [],
   "source": [
    "# Grouping（数据聚合与分组运算）\n",
    "sex_group = df.groupby(\"survived\")\n",
    "sex_group.mean()"
   ]
  },
  {
   "cell_type": "code",
   "execution_count": null,
   "metadata": {
    "colab": {
     "base_uri": "https://localhost:8080/",
     "height": 220
    },
    "colab_type": "code",
    "id": "34LmckWDhdSA",
    "outputId": "0befc9a0-b30b-472b-ef19-e092b8da6f28"
   },
   "outputs": [],
   "source": [
    "# iloc根据位置的索引来访问\n",
    "df.iloc[0, :] # iloc在索引中的特定位置获取行（或列）（因此它只需要整数）"
   ]
  },
  {
   "cell_type": "code",
   "execution_count": null,
   "metadata": {
    "colab": {
     "base_uri": "https://localhost:8080/",
     "height": 34
    },
    "colab_type": "code",
    "id": "QrdXeuRdFkXB",
    "outputId": "1f6b255f-7ed1-463c-adb6-55a026881d56"
   },
   "outputs": [],
   "source": [
    "# 获取指定位置的数据\n",
    "df.iloc[0, 1]\n"
   ]
  },
  {
   "cell_type": "code",
   "execution_count": null,
   "metadata": {
    "colab": {
     "base_uri": "https://localhost:8080/",
     "height": 220
    },
    "colab_type": "code",
    "id": "Rz35_-x2FkaL",
    "outputId": "4d50ef2b-f1d7-4b50-84ea-44a11d1b360a"
   },
   "outputs": [],
   "source": [
    "# loc根据标签的索引来访问\n",
    "df.loc[0] # loc从索引中获取具有特定标签的行（或列）"
   ]
  },
  {
   "cell_type": "markdown",
   "metadata": {
    "colab_type": "text",
    "id": "uSezrq4vEFYh"
   },
   "source": [
    "# 预处理"
   ]
  },
  {
   "cell_type": "code",
   "execution_count": null,
   "metadata": {
    "colab": {
     "base_uri": "https://localhost:8080/",
     "height": 194
    },
    "colab_type": "code",
    "id": "EZ1pCKHIjMUY",
    "outputId": "90120eb7-0764-4feb-f084-399d4f7f3081"
   },
   "outputs": [],
   "source": [
    "# 具有至少一个NaN值的行\n",
    "df[pd.isnull(df).any(axis=1)].head()"
   ]
  },
  {
   "cell_type": "code",
   "execution_count": null,
   "metadata": {
    "colab": {
     "base_uri": "https://localhost:8080/",
     "height": 194
    },
    "colab_type": "code",
    "id": "zUaiFplEkmoB",
    "outputId": "65b701a3-6d72-4914-f920-67561a59a73e"
   },
   "outputs": [],
   "source": [
    "# 删除具有Nan值的行\n",
    "df = df.dropna() # 删除具有NaN值的行\n",
    "df = df.reset_index() # 重置行索引\n",
    "df.head()"
   ]
  },
  {
   "cell_type": "code",
   "execution_count": null,
   "metadata": {
    "colab": {
     "base_uri": "https://localhost:8080/",
     "height": 194
    },
    "colab_type": "code",
    "id": "ubujZv_8qG-d",
    "outputId": "3a397700-f1ff-496b-e585-ef0ad7c2b37f"
   },
   "outputs": [],
   "source": [
    "# 删除多行\n",
    "df = df.drop([\"name\", \"cabin\", \"ticket\"], axis=1) # we won't use text features for our initial basic models\n",
    "df.head()"
   ]
  },
  {
   "cell_type": "code",
   "execution_count": null,
   "metadata": {
    "colab": {
     "base_uri": "https://localhost:8080/",
     "height": 194
    },
    "colab_type": "code",
    "id": "8m117GcVnon9",
    "outputId": "ee33bb3e-c64b-4e2c-8e82-03e669b7bcba"
   },
   "outputs": [],
   "source": [
    "# 映射特征值\n",
    "df['sex'] = df['sex'].map( {'female': 0, 'male': 1} ).astype(int)\n",
    "df[\"embarked\"] = df['embarked'].dropna().map( {'S':0, 'C':1, 'Q':2} ).astype(int)\n",
    "df.head()"
   ]
  },
  {
   "cell_type": "markdown",
   "metadata": {
    "colab_type": "text",
    "id": "ZaVqjpsCEtft"
   },
   "source": [
    "# 特征工程"
   ]
  },
  {
   "cell_type": "code",
   "execution_count": null,
   "metadata": {
    "colab": {
     "base_uri": "https://localhost:8080/",
     "height": 194
    },
    "colab_type": "code",
    "id": "_FPtk5tpqrDI",
    "outputId": "72c426bb-005d-4b47-a9d4-8cbe28e936c5"
   },
   "outputs": [],
   "source": [
    "# lambda表达式创建新特征\n",
    "def get_family_size(sibsp, parch):\n",
    "    family_size = sibsp + parch\n",
    "    return family_size\n",
    "\n",
    "df[\"family_size\"] = df[[\"sibsp\", \"parch\"]].apply(lambda x: get_family_size(x[\"sibsp\"], x[\"parch\"]), axis=1)\n",
    "df.head()"
   ]
  },
  {
   "cell_type": "code",
   "execution_count": null,
   "metadata": {
    "colab": {
     "base_uri": "https://localhost:8080/",
     "height": 194
    },
    "colab_type": "code",
    "id": "JK3FqfjnpSNi",
    "outputId": "80aedded-c9f6-40cb-b073-cf8afab75531"
   },
   "outputs": [],
   "source": [
    "# 重新组织标题\n",
    "df = df[['pclass', 'sex', 'age', 'sibsp', 'parch', 'family_size', 'fare', 'embarked', 'survived']]\n",
    "df.head()"
   ]
  },
  {
   "cell_type": "markdown",
   "metadata": {
    "colab_type": "text",
    "id": "N_rwgfrFGTne"
   },
   "source": [
    "# 保存数据"
   ]
  },
  {
   "cell_type": "code",
   "execution_count": null,
   "metadata": {
    "colab": {},
    "colab_type": "code",
    "id": "rNNxA7Vrp2fC"
   },
   "outputs": [],
   "source": [
    "# 保存数据帧（dataframe）到 CSV\n",
    "df.to_csv(\"../output/processed_titanic.csv\", index=False)"
   ]
  },
  {
   "cell_type": "code",
   "execution_count": null,
   "metadata": {
    "colab": {
     "base_uri": "https://localhost:8080/",
     "height": 84
    },
    "colab_type": "code",
    "id": "gfc7Epp7sgqz",
    "outputId": "e1e21143-2e87-43cb-aa16-b0af114a1b4a"
   },
   "outputs": [],
   "source": [
    "# 看你一下你保持的文件\n",
    "!ls -l ../output"
   ]
  },
  {
   "cell_type": "code",
   "execution_count": null,
   "metadata": {
    "colab": {},
    "colab_type": "code",
    "id": "i1rVSjsdDaTw"
   },
   "outputs": [],
   "source": []
  }
 ],
 "metadata": {
  "colab": {
   "collapsed_sections": [],
   "name": "03_Pandas",
   "provenance": [],
   "toc_visible": true,
   "version": "0.3.2"
  },
  "kernelspec": {
   "display_name": "Python 3 (ipykernel)",
   "language": "python",
   "name": "python3"
  },
  "language_info": {
   "codemirror_mode": {
    "name": "ipython",
    "version": 3
   },
   "file_extension": ".py",
   "mimetype": "text/x-python",
   "name": "python",
   "nbconvert_exporter": "python",
   "pygments_lexer": "ipython3",
   "version": "3.6.15"
  }
 },
 "nbformat": 4,
 "nbformat_minor": 1
}
